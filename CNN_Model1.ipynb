{
 "cells": [
  {
   "cell_type": "code",
   "id": "initial_id",
   "metadata": {
    "collapsed": true,
    "ExecuteTime": {
     "end_time": "2024-09-07T18:52:31.474965Z",
     "start_time": "2024-09-07T18:52:31.470913Z"
    }
   },
   "source": [
    "import tensorflow as tf\n",
    "\n",
    "from keras.src.legacy.preprocessing.image import ImageDataGenerator\n",
    "\n",
    "\n"
   ],
   "outputs": [],
   "execution_count": 31
  },
  {
   "metadata": {
    "ExecuteTime": {
     "end_time": "2024-09-07T18:52:31.658130Z",
     "start_time": "2024-09-07T18:52:31.490972Z"
    }
   },
   "cell_type": "code",
   "source": [
    "train_datagen = ImageDataGenerator(\n",
    "        rescale=1./255,\n",
    "        shear_range=0.2,\n",
    "        zoom_range=0.2,\n",
    "        horizontal_flip=True)\n",
    "\n",
    "\n",
    "training_set = train_datagen.flow_from_directory(\n",
    "        'dataset/training_set',  \n",
    "        target_size=(64,64),  \n",
    "        batch_size=32,\n",
    "        class_mode='binary')\n",
    "\n",
    "\n",
    "\n"
   ],
   "id": "d5b1e7f66da022a2",
   "outputs": [
    {
     "name": "stdout",
     "output_type": "stream",
     "text": [
      "Found 8000 images belonging to 2 classes.\n"
     ]
    }
   ],
   "execution_count": 32
  },
  {
   "metadata": {
    "ExecuteTime": {
     "end_time": "2024-09-07T18:52:31.707580Z",
     "start_time": "2024-09-07T18:52:31.659138Z"
    }
   },
   "cell_type": "code",
   "source": [
    "test_datagen = ImageDataGenerator(rescale=1./255)\n",
    "test_set = test_datagen.flow_from_directory(\n",
    "        'dataset/test_set',\n",
    "        target_size=(64,64),\n",
    "        batch_size=32,\n",
    "        class_mode='binary')"
   ],
   "id": "179410cd738ff2c1",
   "outputs": [
    {
     "name": "stdout",
     "output_type": "stream",
     "text": [
      "Found 2000 images belonging to 2 classes.\n"
     ]
    }
   ],
   "execution_count": 33
  },
  {
   "metadata": {
    "ExecuteTime": {
     "end_time": "2024-09-07T18:52:31.712192Z",
     "start_time": "2024-09-07T18:52:31.707580Z"
    }
   },
   "cell_type": "code",
   "source": "cnn = tf.keras.models.Sequential()\n",
   "id": "b8966addf49f4831",
   "outputs": [],
   "execution_count": 34
  },
  {
   "metadata": {
    "ExecuteTime": {
     "end_time": "2024-09-07T18:52:31.723112Z",
     "start_time": "2024-09-07T18:52:31.713273Z"
    }
   },
   "cell_type": "code",
   "source": "cnn.add(tf.keras.layers.Conv2D(filters=32, kernel_size=3, padding='same', activation='relu', input_shape=(64,64,3)))",
   "id": "7e8923bf8d18b8f",
   "outputs": [],
   "execution_count": 35
  },
  {
   "metadata": {
    "ExecuteTime": {
     "end_time": "2024-09-07T18:52:31.730400Z",
     "start_time": "2024-09-07T18:52:31.724201Z"
    }
   },
   "cell_type": "code",
   "source": "cnn.add(tf.keras.layers.MaxPooling2D(pool_size=2, strides=2))",
   "id": "e122626de565a62a",
   "outputs": [],
   "execution_count": 36
  },
  {
   "metadata": {
    "ExecuteTime": {
     "end_time": "2024-09-07T18:52:31.743542Z",
     "start_time": "2024-09-07T18:52:31.730400Z"
    }
   },
   "cell_type": "code",
   "source": [
    "cnn.add(tf.keras.layers.Conv2D(filters=32, kernel_size=3, padding='same', activation='relu'))\n",
    "cnn.add(tf.keras.layers.MaxPooling2D(pool_size=2, strides=2))"
   ],
   "id": "c3cb474dd37e20f2",
   "outputs": [],
   "execution_count": 37
  },
  {
   "metadata": {
    "ExecuteTime": {
     "end_time": "2024-09-07T18:52:31.749805Z",
     "start_time": "2024-09-07T18:52:31.744624Z"
    }
   },
   "cell_type": "code",
   "source": "cnn.add((tf.keras.layers.Flatten()))",
   "id": "de003a5950ce602",
   "outputs": [],
   "execution_count": 38
  },
  {
   "metadata": {
    "ExecuteTime": {
     "end_time": "2024-09-07T18:52:31.763034Z",
     "start_time": "2024-09-07T18:52:31.750886Z"
    }
   },
   "cell_type": "code",
   "source": "cnn.add(tf.keras.layers.Dense(units=128, activation='relu'))",
   "id": "7ff25238c359af1b",
   "outputs": [],
   "execution_count": 39
  },
  {
   "metadata": {
    "ExecuteTime": {
     "end_time": "2024-09-07T18:52:31.773786Z",
     "start_time": "2024-09-07T18:52:31.764114Z"
    }
   },
   "cell_type": "code",
   "source": "cnn.add(tf.keras.layers.Dense(units=1, activation='relu'))",
   "id": "f4433c823d73bf77",
   "outputs": [],
   "execution_count": 40
  },
  {
   "metadata": {
    "ExecuteTime": {
     "end_time": "2024-09-07T18:52:31.781665Z",
     "start_time": "2024-09-07T18:52:31.775868Z"
    }
   },
   "cell_type": "code",
   "source": "cnn.compile(optimizer='adam', loss='binary_crossentropy', metrics=['accuracy'])",
   "id": "4cadc9ebd88e2adb",
   "outputs": [],
   "execution_count": 41
  },
  {
   "metadata": {
    "ExecuteTime": {
     "end_time": "2024-09-07T18:53:56.399708Z",
     "start_time": "2024-09-07T18:52:31.782779Z"
    }
   },
   "cell_type": "code",
   "source": "cnn.fit(training_set, validation_data=test_set, epochs=5)",
   "id": "40decf46689e28ab",
   "outputs": [
    {
     "name": "stdout",
     "output_type": "stream",
     "text": [
      "Epoch 1/5\n",
      "\u001B[1m250/250\u001B[0m \u001B[32m━━━━━━━━━━━━━━━━━━━━\u001B[0m\u001B[37m\u001B[0m \u001B[1m18s\u001B[0m 66ms/step - accuracy: 0.5021 - loss: 8.0249 - val_accuracy: 0.5000 - val_loss: 8.0590\n",
      "Epoch 2/5\n",
      "\u001B[1m250/250\u001B[0m \u001B[32m━━━━━━━━━━━━━━━━━━━━\u001B[0m\u001B[37m\u001B[0m \u001B[1m17s\u001B[0m 65ms/step - accuracy: 0.5045 - loss: 7.9859 - val_accuracy: 0.5000 - val_loss: 8.0590\n",
      "Epoch 3/5\n",
      "\u001B[1m250/250\u001B[0m \u001B[32m━━━━━━━━━━━━━━━━━━━━\u001B[0m\u001B[37m\u001B[0m \u001B[1m17s\u001B[0m 66ms/step - accuracy: 0.5013 - loss: 8.0389 - val_accuracy: 0.5000 - val_loss: 8.0590\n",
      "Epoch 4/5\n",
      "\u001B[1m250/250\u001B[0m \u001B[32m━━━━━━━━━━━━━━━━━━━━\u001B[0m\u001B[37m\u001B[0m \u001B[1m17s\u001B[0m 65ms/step - accuracy: 0.4971 - loss: 8.1055 - val_accuracy: 0.5000 - val_loss: 8.0590\n",
      "Epoch 5/5\n",
      "\u001B[1m250/250\u001B[0m \u001B[32m━━━━━━━━━━━━━━━━━━━━\u001B[0m\u001B[37m\u001B[0m \u001B[1m16s\u001B[0m 63ms/step - accuracy: 0.4976 - loss: 8.0969 - val_accuracy: 0.5000 - val_loss: 8.0590\n"
     ]
    },
    {
     "data": {
      "text/plain": [
       "<keras.src.callbacks.history.History at 0x27a78434bf0>"
      ]
     },
     "execution_count": 42,
     "metadata": {},
     "output_type": "execute_result"
    }
   ],
   "execution_count": 42
  },
  {
   "metadata": {
    "ExecuteTime": {
     "end_time": "2024-09-07T18:53:56.502867Z",
     "start_time": "2024-09-07T18:53:56.399708Z"
    }
   },
   "cell_type": "code",
   "source": [
    "import numpy as np \n",
    "test_image = tf.keras.utils.load_img('dataset/single_prediction/cat_or_dog_1.jpg', target_size=(64,64))\n",
    "test_image = tf.keras.utils.img_to_array(test_image)\n",
    "test_image = np.expand_dims(test_image, axis=0)\n",
    "result = cnn.predict(test_image)\n",
    "training_set.class_indices\n",
    "\n",
    "if result[0][0] ==1:\n",
    "        prediction = 'dog'\n",
    "else:   \n",
    "        prediction = 'cat'\n",
    "        \n",
    "print(prediction)"
   ],
   "id": "acbda8b6cbfb8163",
   "outputs": [
    {
     "name": "stdout",
     "output_type": "stream",
     "text": [
      "\u001B[1m1/1\u001B[0m \u001B[32m━━━━━━━━━━━━━━━━━━━━\u001B[0m\u001B[37m\u001B[0m \u001B[1m0s\u001B[0m 55ms/step\n",
      "cat\n"
     ]
    }
   ],
   "execution_count": 43
  }
 ],
 "metadata": {
  "kernelspec": {
   "display_name": "Python 3",
   "language": "python",
   "name": "python3"
  },
  "language_info": {
   "codemirror_mode": {
    "name": "ipython",
    "version": 2
   },
   "file_extension": ".py",
   "mimetype": "text/x-python",
   "name": "python",
   "nbconvert_exporter": "python",
   "pygments_lexer": "ipython2",
   "version": "2.7.6"
  }
 },
 "nbformat": 4,
 "nbformat_minor": 5
}

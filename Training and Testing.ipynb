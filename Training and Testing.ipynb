{
 "cells": [
  {
   "cell_type": "code",
   "id": "initial_id",
   "metadata": {
    "collapsed": true,
    "ExecuteTime": {
     "end_time": "2024-08-13T12:44:30.354630Z",
     "start_time": "2024-08-13T12:44:29.342381Z"
    }
   },
   "source": [
    "from sklearn.model_selection import train_test_split\n",
    "import pandas as pd \n",
    "import numpy as np\n",
    "from sklearn.preprocessing import LabelEncoder\n",
    "from sklearn.preprocessing import OneHotEncoder\n",
    "from sklearn.compose import ColumnTransformer\n",
    "le = LabelEncoder()\n",
    "ct = ColumnTransformer(transformers =[('encoder',OneHotEncoder(),[0])],remainder='passthrough')\n",
    "ds = pd.read_csv(\"Data.csv\")\n",
    "\n",
    "x = ds.iloc[0:,:-1].values\n",
    "y = ds.iloc[:,-1].values\n",
    "\n",
    "x = np.array(ct.fit_transform(x))\n",
    "y = le.fit_transform(y)\n",
    " \n",
    "x_train , x_test , y_train , y_test = train_test_split(x,y,test_size=2 , random_state=1)\n",
    "\n",
    "print(ds)\n"
   ],
   "outputs": [
    {
     "name": "stdout",
     "output_type": "stream",
     "text": [
      "   Country   Age   Salary Purchased\n",
      "0   France  44.0  72000.0        No\n",
      "1    Spain  27.0  48000.0       Yes\n",
      "2  Germany  30.0  54000.0        No\n",
      "3    Spain  38.0  61000.0        No\n",
      "4  Germany  40.0      NaN       Yes\n",
      "5   France  35.0  58000.0       Yes\n",
      "6    Spain   NaN  52000.0        No\n",
      "7   France  48.0  79000.0       Yes\n",
      "8  Germany  50.0  83000.0        No\n",
      "9   France  37.0  67000.0       Yes\n"
     ]
    }
   ],
   "execution_count": 1
  },
  {
   "metadata": {
    "ExecuteTime": {
     "end_time": "2024-08-08T05:22:38.688004Z",
     "start_time": "2024-08-08T05:22:38.682644Z"
    }
   },
   "cell_type": "code",
   "source": "print(x_train)",
   "id": "7df18e15d5420fac",
   "outputs": [
    {
     "name": "stdout",
     "output_type": "stream",
     "text": [
      "[0 1 0 0 1 1 0 1 0 1]\n"
     ]
    }
   ],
   "execution_count": 4
  },
  {
   "metadata": {},
   "cell_type": "markdown",
   "source": "",
   "id": "7dbc7e99e85e32d7"
  },
  {
   "metadata": {
    "ExecuteTime": {
     "end_time": "2024-08-07T13:29:30.577464Z",
     "start_time": "2024-08-07T13:29:30.573628Z"
    }
   },
   "cell_type": "code",
   "source": "print(x_train) ",
   "id": "4aeaa6cc5ba37392",
   "outputs": [
    {
     "name": "stdout",
     "output_type": "stream",
     "text": [
      "[['Spain' nan 52000.0]\n",
      " ['Germany' 40.0 nan]\n",
      " ['France' 44.0 72000.0]\n",
      " ['Spain' 38.0 61000.0]\n",
      " ['Spain' 27.0 48000.0]\n",
      " ['France' 48.0 79000.0]\n",
      " ['Germany' 50.0 83000.0]\n",
      " ['France' 35.0 58000.0]]\n"
     ]
    }
   ],
   "execution_count": 4
  },
  {
   "metadata": {
    "ExecuteTime": {
     "end_time": "2024-08-07T13:29:33.993076Z",
     "start_time": "2024-08-07T13:29:33.989755Z"
    }
   },
   "cell_type": "code",
   "source": "print(x_test)",
   "id": "befc34cd044f7ad1",
   "outputs": [
    {
     "name": "stdout",
     "output_type": "stream",
     "text": [
      "[['Germany' 30.0 54000.0]\n",
      " ['France' 37.0 67000.0]]\n"
     ]
    }
   ],
   "execution_count": 5
  },
  {
   "metadata": {
    "ExecuteTime": {
     "end_time": "2024-08-07T13:29:37.139919Z",
     "start_time": "2024-08-07T13:29:37.136861Z"
    }
   },
   "cell_type": "code",
   "source": "print(y_train)",
   "id": "73ce7e9ad5e232f0",
   "outputs": [
    {
     "name": "stdout",
     "output_type": "stream",
     "text": [
      "['No' 'Yes' 'No' 'No' 'Yes' 'Yes' 'No' 'Yes']\n"
     ]
    }
   ],
   "execution_count": 6
  },
  {
   "metadata": {
    "ExecuteTime": {
     "end_time": "2024-08-07T13:29:40.283461Z",
     "start_time": "2024-08-07T13:29:40.279620Z"
    }
   },
   "cell_type": "code",
   "source": "print(y_test)",
   "id": "f3f7bdb13f6893cf",
   "outputs": [
    {
     "name": "stdout",
     "output_type": "stream",
     "text": [
      "['No' 'Yes']\n"
     ]
    }
   ],
   "execution_count": 7
  },
  {
   "metadata": {
    "ExecuteTime": {
     "end_time": "2024-08-08T06:18:52.552399Z",
     "start_time": "2024-08-08T06:18:52.548293Z"
    }
   },
   "cell_type": "code",
   "source": [
    "from sklearn.preprocessing import StandardScaler\n",
    "\n",
    "sc =StandardScaler()\n",
    "\n",
    "x_train = sc.fit_transform(x_train)\n",
    "x_test = sc.fit_transform(x_test)\n",
    "\n"
   ],
   "id": "429c001368bb8a8d",
   "outputs": [],
   "execution_count": 13
  },
  {
   "metadata": {},
   "cell_type": "markdown",
   "source": "",
   "id": "eb7d9a40c8147cad"
  },
  {
   "metadata": {
    "ExecuteTime": {
     "end_time": "2024-08-08T05:38:43.704042Z",
     "start_time": "2024-08-08T05:38:43.699763Z"
    }
   },
   "cell_type": "code",
   "source": "print(x_train)",
   "id": "42d17af50559f28d",
   "outputs": [
    {
     "name": "stdout",
     "output_type": "stream",
     "text": [
      "[['Spain' nan 52000.0]\n",
      " ['Germany' 40.0 nan]\n",
      " ['France' 44.0 72000.0]\n",
      " ['Spain' 38.0 61000.0]\n",
      " ['Spain' 27.0 48000.0]\n",
      " ['France' 48.0 79000.0]\n",
      " ['Germany' 50.0 83000.0]\n",
      " ['France' 35.0 58000.0]]\n"
     ]
    }
   ],
   "execution_count": 6
  },
  {
   "metadata": {
    "ExecuteTime": {
     "end_time": "2024-08-08T05:38:45.408668Z",
     "start_time": "2024-08-08T05:38:45.406019Z"
    }
   },
   "cell_type": "code",
   "source": "print(x_test)\n",
   "id": "cdf30ae6daac8646",
   "outputs": [
    {
     "name": "stdout",
     "output_type": "stream",
     "text": [
      "[['Germany' 30.0 54000.0]\n",
      " ['France' 37.0 67000.0]]\n"
     ]
    }
   ],
   "execution_count": 7
  }
 ],
 "metadata": {
  "kernelspec": {
   "display_name": "Python 3",
   "language": "python",
   "name": "python3"
  },
  "language_info": {
   "codemirror_mode": {
    "name": "ipython",
    "version": 2
   },
   "file_extension": ".py",
   "mimetype": "text/x-python",
   "name": "python",
   "nbconvert_exporter": "python",
   "pygments_lexer": "ipython2",
   "version": "2.7.6"
  }
 },
 "nbformat": 4,
 "nbformat_minor": 5
}
